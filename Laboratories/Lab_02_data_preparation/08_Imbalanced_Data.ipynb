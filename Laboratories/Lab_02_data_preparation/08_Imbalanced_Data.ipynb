{
 "cells": [
  {
   "cell_type": "markdown",
   "metadata": {},
   "source": [
    "# Imbalance Data"
   ]
  },
  {
   "cell_type": "code",
   "execution_count": null,
   "metadata": {},
   "outputs": [],
   "source": [
    "'''\n",
    "How to deal with imbalanced data\n",
    "\n",
    "(1) Use the right evaluation metrics: \n",
    "\n",
    "    Applying inappropriate evaluation metrics for a model generated using imbalanced data can be dangerous. \n",
    "    Accuracy is not the metric to use when working with an imbalanced dataset. We have seen that it is misleading.\n",
    "\n",
    "    There are metrics that have been designed to tell you a more truthful story when working with imbalanced classes.\n",
    "\n",
    "    In the case of unbalanced datasets, other alternative evaluation metrics can be applied such as:\n",
    "\n",
    "        Precision\n",
    "        Recall\n",
    "        F1 score\n",
    "        AUC (also known as \"roc_auc\" in sklearn)\n",
    "    \n",
    "AND you can use one of the following (or none of them):\n",
    "    \n",
    "(2) Downsampling your data: (not always the best option)\n",
    "    You can change the dataset that you use to build your predictive model to have more balanced data. See the code below.\n",
    "\n",
    "(3) Use, when available, the parameter class_weight = 'balanced' of sklearn (not always the best option).\n",
    "    \n",
    "'''"
   ]
  },
  {
   "cell_type": "code",
   "execution_count": null,
   "metadata": {},
   "outputs": [],
   "source": [
    "#IMPORT DATA\n",
    "import pandas as pd\n",
    "df = pd.read_csv('diabetes.csv')\n",
    "df.head()"
   ]
  },
  {
   "cell_type": "code",
   "execution_count": null,
   "metadata": {},
   "outputs": [],
   "source": [
    "#Print class freq. through pandas \n",
    "print(df.groupby('target').size()) #\"target\" is the name of the target column, change it accordingly to your dataset\n",
    "\n",
    "#some imports to plot \n",
    "import matplotlib.pyplot as plt\n",
    "import seaborn as sns\n",
    "%matplotlib inline\n",
    "plt.style.use('ggplot')\n",
    "\n",
    "#Visualize Class Counts\n",
    "sns.countplot(y=df.target ,data=df) #\"target\" is the name of the target column, change it accordingly to your dataset\n",
    "plt.xlabel(\"count of each class\")\n",
    "plt.ylabel(\"classes\")\n",
    "plt.show()"
   ]
  },
  {
   "cell_type": "code",
   "execution_count": null,
   "metadata": {},
   "outputs": [],
   "source": [
    "import numpy as np\n",
    "from sklearn.metrics import accuracy_score\n",
    "\n",
    "y=df['target']\n",
    "y_pred=np.zeros(len(y))\n",
    "\n",
    "accuracy_score(y, y_pred)\n"
   ]
  },
  {
   "cell_type": "code",
   "execution_count": null,
   "metadata": {},
   "outputs": [],
   "source": [
    "df.head()"
   ]
  },
  {
   "cell_type": "code",
   "execution_count": null,
   "metadata": {},
   "outputs": [],
   "source": [
    "df.info()"
   ]
  },
  {
   "cell_type": "code",
   "execution_count": null,
   "metadata": {},
   "outputs": [],
   "source": [
    "df.describe()"
   ]
  },
  {
   "cell_type": "markdown",
   "metadata": {},
   "source": [
    "## Downsampling"
   ]
  },
  {
   "cell_type": "code",
   "execution_count": null,
   "metadata": {},
   "outputs": [],
   "source": [
    "from sklearn.utils import resample\n",
    "\n",
    "#Down-sample Majority Class\n",
    "#1) Separate majority and minority classes\n",
    "df_majority = df[df.target==0] #\"target\" is the name of the target column, change it accordingly to your dataset\n",
    "df_minority = df[df.target==1] #\"target\" is the name of the target column, change it accordingly to your dataset\n",
    " \n",
    "#2) Downsample majority class\n",
    "df_majority_downsampled = resample(df_majority, \n",
    "                                   replace=False,\n",
    "                                   n_samples=268,     # number of samples into the minority class (change it accordingly to your dataset)\n",
    "                                   random_state=123)  # reproducible results\n",
    " \n",
    "#3) Combine minority class with downsampled majority class\n",
    "df_downsampled = pd.concat([df_majority_downsampled, df_minority])\n",
    " \n",
    "#4) Display new class counts\n",
    "df_downsampled.target.value_counts() #\"target\" is the name of the target column, change it accordingly to your dataset"
   ]
  },
  {
   "cell_type": "markdown",
   "metadata": {},
   "source": [
    "## Oversampling"
   ]
  },
  {
   "cell_type": "code",
   "execution_count": null,
   "metadata": {},
   "outputs": [],
   "source": [
    "from sklearn.utils import resample\n",
    "\n",
    "#Over-sample Minority Class\n",
    "#1) Separate majority and minority classes\n",
    "df_majority = df[df.target==0] #\"target\" is the name of the target column, change it accordingly to your dataset\n",
    "df_minority = df[df.target==1] #\"target\" is the name of the target column, change it accordingly to your dataset\n",
    " \n",
    "#2) Oversample minority class\n",
    "df_minority_oversampled = resample(df_minority, \n",
    "                                   replace=True,\n",
    "                                   n_samples=500,     # number of samples into the minority class (change it accordingly to your dataset)\n",
    "                                   random_state=123)  # reproducible results\n",
    " \n",
    "#3) Combine oversampled minority class with majority class\n",
    "df_oversampled = pd.concat([df_minority_oversampled, df_majority])\n",
    " \n",
    "#4) Display new class counts\n",
    "df_oversampled.target.value_counts() #\"target\" is the name of the target column, change it accordingly to your dataset"
   ]
  },
  {
   "cell_type": "code",
   "execution_count": null,
   "metadata": {},
   "outputs": [],
   "source": []
  },
  {
   "cell_type": "code",
   "execution_count": null,
   "metadata": {},
   "outputs": [],
   "source": []
  },
  {
   "cell_type": "code",
   "execution_count": null,
   "metadata": {},
   "outputs": [],
   "source": []
  }
 ],
 "metadata": {
  "kernelspec": {
   "display_name": "Python 3 (ipykernel)",
   "language": "python",
   "name": "python3"
  },
  "language_info": {
   "codemirror_mode": {
    "name": "ipython",
    "version": 3
   },
   "file_extension": ".py",
   "mimetype": "text/x-python",
   "name": "python",
   "nbconvert_exporter": "python",
   "pygments_lexer": "ipython3",
   "version": "3.8.8"
  }
 },
 "nbformat": 4,
 "nbformat_minor": 2
}
