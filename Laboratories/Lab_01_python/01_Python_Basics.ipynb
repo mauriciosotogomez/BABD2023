{
 "cells": [
  {
   "cell_type": "markdown",
   "metadata": {},
   "source": [
    "# Python (very) basics"
   ]
  },
  {
   "cell_type": "markdown",
   "metadata": {},
   "source": [
    "# Datatypes"
   ]
  },
  {
   "cell_type": "markdown",
   "metadata": {},
   "source": [
    "- Numbers\n",
    "- Strings\n",
    "- Lists\n",
    "- Dictionaries\n",
    "- Tuples\n",
    "- Files\n",
    "- Sets\n",
    "- Other (booleans, types, None)\n",
    "- Program unit types (functions, modules, classes)"
   ]
  },
  {
   "cell_type": "markdown",
   "metadata": {},
   "source": [
    "## A simple Python script"
   ]
  },
  {
   "cell_type": "code",
   "execution_count": 1,
   "metadata": {},
   "outputs": [
    {
     "name": "stdout",
     "output_type": "stream",
     "text": [
      "30\n"
     ]
    }
   ],
   "source": [
    "# Sum the squares of n numbers \n",
    "#if n = 5 then the result is 1+4+9+16+25 = 55\n",
    "\n",
    "sum_squares = 0\n",
    "\n",
    "for i in range(5):\n",
    "    s = i**2\n",
    "    sum_squares = sum_squares + s \n",
    "    #  equal to sum_squares = sumsquares + i**2 \n",
    "\n",
    "print(sum_squares) # something went wrong...find the error!!!"
   ]
  },
  {
   "cell_type": "code",
   "execution_count": null,
   "metadata": {},
   "outputs": [],
   "source": [
    "for i in range(5):\n",
    "    print(i)"
   ]
  },
  {
   "cell_type": "markdown",
   "metadata": {},
   "source": [
    "![zeroindex](zero_index.png)"
   ]
  },
  {
   "cell_type": "code",
   "execution_count": 2,
   "metadata": {},
   "outputs": [
    {
     "name": "stdout",
     "output_type": "stream",
     "text": [
      "55\n"
     ]
    }
   ],
   "source": [
    "###SOLUTION###\n",
    "sum_squares = 0 \n",
    "\n",
    "for i in range(6):  \n",
    "    sum_squares+=i**2   # sum_squares=sum_squares+i**2 i+=1 a  more pythonic way of coding the same lines\n",
    "    \n",
    "print(sum_squares)"
   ]
  },
  {
   "cell_type": "markdown",
   "metadata": {},
   "source": [
    "## Dynamic Typing"
   ]
  },
  {
   "cell_type": "code",
   "execution_count": 3,
   "metadata": {},
   "outputs": [],
   "source": [
    "i=3\n",
    "s=\"ML\"\n",
    "f1=3.14\n",
    "f2=2.3e+6"
   ]
  },
  {
   "cell_type": "code",
   "execution_count": 4,
   "metadata": {},
   "outputs": [
    {
     "name": "stdout",
     "output_type": "stream",
     "text": [
      "<class 'int'> <class 'str'> <class 'float'> <class 'float'>\n"
     ]
    }
   ],
   "source": [
    "print(type(i), type(s), type(f1), type(f2))"
   ]
  },
  {
   "cell_type": "markdown",
   "metadata": {},
   "source": [
    "## Python Strings"
   ]
  },
  {
   "cell_type": "code",
   "execution_count": 5,
   "metadata": {},
   "outputs": [
    {
     "name": "stdout",
     "output_type": "stream",
     "text": [
      "hell\n"
     ]
    }
   ],
   "source": [
    "s = \"hello world\"\n",
    "\n",
    "#you can manipulate a string as you manipulate a list...try the following...\n",
    "\n",
    "#Slicing\n",
    "print(s[0:4])"
   ]
  },
  {
   "cell_type": "code",
   "execution_count": 12,
   "metadata": {},
   "outputs": [
    {
     "name": "stdout",
     "output_type": "stream",
     "text": [
      "hell\n",
      " world\n",
      "hell\n",
      "hello world\n",
      "hello world\n",
      "el ol\n",
      "hello worldhello world\n",
      "hello worldhello worldhello world\n"
     ]
    },
    {
     "data": {
      "text/plain": [
       "['__add__',\n",
       " '__class__',\n",
       " '__contains__',\n",
       " '__delattr__',\n",
       " '__dir__',\n",
       " '__doc__',\n",
       " '__eq__',\n",
       " '__format__',\n",
       " '__ge__',\n",
       " '__getattribute__',\n",
       " '__getitem__',\n",
       " '__getnewargs__',\n",
       " '__gt__',\n",
       " '__hash__',\n",
       " '__init__',\n",
       " '__init_subclass__',\n",
       " '__iter__',\n",
       " '__le__',\n",
       " '__len__',\n",
       " '__lt__',\n",
       " '__mod__',\n",
       " '__mul__',\n",
       " '__ne__',\n",
       " '__new__',\n",
       " '__reduce__',\n",
       " '__reduce_ex__',\n",
       " '__repr__',\n",
       " '__rmod__',\n",
       " '__rmul__',\n",
       " '__setattr__',\n",
       " '__sizeof__',\n",
       " '__str__',\n",
       " '__subclasshook__',\n",
       " 'capitalize',\n",
       " 'casefold',\n",
       " 'center',\n",
       " 'count',\n",
       " 'encode',\n",
       " 'endswith',\n",
       " 'expandtabs',\n",
       " 'find',\n",
       " 'format',\n",
       " 'format_map',\n",
       " 'index',\n",
       " 'isalnum',\n",
       " 'isalpha',\n",
       " 'isascii',\n",
       " 'isdecimal',\n",
       " 'isdigit',\n",
       " 'isidentifier',\n",
       " 'islower',\n",
       " 'isnumeric',\n",
       " 'isprintable',\n",
       " 'isspace',\n",
       " 'istitle',\n",
       " 'isupper',\n",
       " 'join',\n",
       " 'ljust',\n",
       " 'lower',\n",
       " 'lstrip',\n",
       " 'maketrans',\n",
       " 'partition',\n",
       " 'replace',\n",
       " 'rfind',\n",
       " 'rindex',\n",
       " 'rjust',\n",
       " 'rpartition',\n",
       " 'rsplit',\n",
       " 'rstrip',\n",
       " 'split',\n",
       " 'splitlines',\n",
       " 'startswith',\n",
       " 'strip',\n",
       " 'swapcase',\n",
       " 'title',\n",
       " 'translate',\n",
       " 'upper',\n",
       " 'zfill']"
      ]
     },
     "execution_count": 12,
     "metadata": {},
     "output_type": "execute_result"
    }
   ],
   "source": [
    "#We can create them simply by enclosing characters in quotes.\n",
    "#STRINGS ARE IMMUTABLE\n",
    "\n",
    "s = \"hello world\"\n",
    "\n",
    "#you can manipulate a string as you manipulate a list...try the following...\n",
    "\n",
    "#Slicing\n",
    "print(s[0:4])\n",
    "\n",
    "#TRY yourself! Extract the last 5 chars:\n",
    "print(s[5:])\n",
    "\n",
    "#TRY yourself! Extract all chars except for the first and the last ones\n",
    "print(s[:4])\n",
    "\n",
    "print(s[:])\n",
    "#take a char every two (and starting from the second char)\n",
    "\n",
    "s1=s[1::2]\n",
    "\n",
    "print(s)\n",
    "print(s1)\n",
    "\n",
    "print(s+s)\n",
    "\n",
    "#TRY yourself! what if you want to create a string containing the words \"machine learning\"\n",
    "\n",
    "#TRY yourself!print a string \n",
    "\n",
    "#TRY yourself!use the operator + \n",
    "\n",
    "#TRY yourself! duplicate a string by using *\n",
    "print(s*3)\n",
    "\n",
    "#TRY IT! shows up all the BUILT-IN METHODS \n",
    "dir(s)\n",
    "\n",
    "#try the following methods:\n",
    "#1) strip remove spaces\n",
    "#2) split s.split(\" \")\n",
    "#3) join \"/\".join([\"12\",\"10\",\"1980\"])\n",
    "\n",
    "#s.split()\n",
    "\n",
    "#Try to transform a string into a list \n",
    "#y = list(s)\n",
    "#y\n",
    "#use the function len() to find out the lenght of a string or a list\n",
    "#len(s)"
   ]
  },
  {
   "cell_type": "code",
   "execution_count": 13,
   "metadata": {},
   "outputs": [
    {
     "name": "stdout",
     "output_type": "stream",
     "text": [
      "This is our lesson 1 on Machine Learning\n",
      "Number pi can be approximated by 3.142\n"
     ]
    }
   ],
   "source": [
    "# Formatted print\n",
    "'''\n",
    "d \tSigned integer decimal.\n",
    "i \tSigned integer decimal.\n",
    "e \tFloating point exponential format (lowercase).\n",
    "E \tFloating point exponential format (uppercase).\n",
    "f \tFloating point decimal format.\n",
    "F \tFloating point decimal format.\n",
    "g \tSame as \"e\" if exponent is greater than -4 or less than precision, \"f\" otherwise.\n",
    "c \tSingle character (accepts integer or single character string).\n",
    "r \tString (converts any python object using repr()).\n",
    "s \tString (converts any python object using str()).\n",
    "'''\n",
    "\n",
    "print('This is our lesson %d on %s' % (1, \"Machine Learning\"))\n",
    "\n",
    "print('Number %s can be approximated by %.3f' % (\"pi\",3.141592653589793))\n"
   ]
  },
  {
   "cell_type": "markdown",
   "metadata": {},
   "source": [
    "## Python Lists"
   ]
  },
  {
   "cell_type": "code",
   "execution_count": 14,
   "metadata": {},
   "outputs": [],
   "source": [
    "'''\n",
    "A list is a collection of values and it can contain any data type\n",
    "STRINGS ARE IMMUTABLE\n",
    "'''\n",
    "\n",
    "# How to build a list and reference it with a variable \n",
    "mylist = [2,5,1,9,\"learning\",0,\"machine\"] \n",
    "\n",
    "number = 2.4 #a list can contain any data type\n",
    "\n",
    "# How to build a list of lists\n",
    "alistoflists = [[1,2],\n",
    "                [True,False],\n",
    "                [\"hello\", number]]"
   ]
  },
  {
   "cell_type": "code",
   "execution_count": 15,
   "metadata": {},
   "outputs": [
    {
     "name": "stdout",
     "output_type": "stream",
     "text": [
      "mylist is:  [2, 5, 1, 9, 'learning', 0, 'machine']\n",
      "[[1, 2], [True, False], ['hello', 2.4]]\n"
     ]
    }
   ],
   "source": [
    "#print a list\n",
    "print(\"mylist is: \", mylist)\n",
    "print(alistoflists)"
   ]
  },
  {
   "cell_type": "code",
   "execution_count": 16,
   "metadata": {},
   "outputs": [
    {
     "data": {
      "text/plain": [
       "list"
      ]
     },
     "execution_count": 16,
     "metadata": {},
     "output_type": "execute_result"
    }
   ],
   "source": [
    "#check list type\n",
    "type(mylist)"
   ]
  },
  {
   "cell_type": "code",
   "execution_count": 20,
   "metadata": {},
   "outputs": [
    {
     "data": {
      "text/plain": [
       "'machine'"
      ]
     },
     "execution_count": 20,
     "metadata": {},
     "output_type": "execute_result"
    }
   ],
   "source": [
    "'''\n",
    "Subsetting lists: indexing and slicing\n",
    "'''\n",
    "#  ***LIST INDEXING***\n",
    "# select an element - zero-based indexed\n",
    "mylist = [2,5,1,9,\"learning\",0,\"machine\"] \n",
    "\n",
    "mylist[-1]\n",
    "\n",
    "# Try it! what if out of range\n",
    "#print(mylist[-1])\n",
    "\n"
   ]
  },
  {
   "cell_type": "code",
   "execution_count": null,
   "metadata": {},
   "outputs": [],
   "source": [
    "mylist[-5:5] \n",
    "\n",
    "# you can go backwards\n",
    "# mylist[-3] # return the exact same result that mylist[4]"
   ]
  },
  {
   "cell_type": "markdown",
   "metadata": {},
   "source": [
    "![index](list_index.png)"
   ]
  },
  {
   "cell_type": "code",
   "execution_count": 25,
   "metadata": {},
   "outputs": [
    {
     "name": "stdout",
     "output_type": "stream",
     "text": [
      "[1, 9]\n",
      "[2, 5]\n",
      "[9, 'learning', 0, 'machine']\n",
      "2\n"
     ]
    }
   ],
   "source": [
    "# ***LIST SLICING***\n",
    "mylist = [2,5,1,9,\"learning\",0,\"machine\"]\n",
    "#syntax [start:end] \n",
    "#start is included (the index before the colon) and end is excluded\n",
    "print(mylist[2:4])\n",
    "\n",
    "#with this in mind...can you guess what the following return?\n",
    "mylist[1:2] \n",
    "print(mylist[:2]) #what if you leave out the start index\n",
    "print(mylist[3:]) #or end index?\n",
    "\n",
    "#subsetting lists of lists: to subset lists of lists, you can use the same technique as before\n",
    "print(alistoflists[0][1]) \n",
    "\n",
    "#mylist[:]"
   ]
  },
  {
   "cell_type": "code",
   "execution_count": 26,
   "metadata": {},
   "outputs": [
    {
     "name": "stdout",
     "output_type": "stream",
     "text": [
      "[2, 5, 1, 9, 'learning', 0, 'machine']\n"
     ]
    }
   ],
   "source": [
    "mylist = [2,5,1,9,\"learning\",0,\"machine\"]\n",
    "print(mylist)"
   ]
  },
  {
   "cell_type": "code",
   "execution_count": 28,
   "metadata": {},
   "outputs": [
    {
     "data": {
      "text/plain": [
       "[2,\n",
       " 5,\n",
       " 1,\n",
       " 9,\n",
       " 'learning',\n",
       " 0,\n",
       " 'machine',\n",
       " 2,\n",
       " 5,\n",
       " 1,\n",
       " 9,\n",
       " 'learning',\n",
       " 0,\n",
       " 'machine',\n",
       " 2,\n",
       " 5,\n",
       " 1,\n",
       " 9,\n",
       " 'learning',\n",
       " 0,\n",
       " 'machine']"
      ]
     },
     "execution_count": 28,
     "metadata": {},
     "output_type": "execute_result"
    }
   ],
   "source": [
    "mylist = [2,5,1,9,\"learning\",0,\"machine\"]\n",
    "mylist+mylist\n",
    "mylist*3"
   ]
  },
  {
   "cell_type": "code",
   "execution_count": 36,
   "metadata": {},
   "outputs": [
    {
     "data": {
      "text/plain": [
       "['__add__',\n",
       " '__class__',\n",
       " '__contains__',\n",
       " '__delattr__',\n",
       " '__delitem__',\n",
       " '__dir__',\n",
       " '__doc__',\n",
       " '__eq__',\n",
       " '__format__',\n",
       " '__ge__',\n",
       " '__getattribute__',\n",
       " '__getitem__',\n",
       " '__gt__',\n",
       " '__hash__',\n",
       " '__iadd__',\n",
       " '__imul__',\n",
       " '__init__',\n",
       " '__init_subclass__',\n",
       " '__iter__',\n",
       " '__le__',\n",
       " '__len__',\n",
       " '__lt__',\n",
       " '__mul__',\n",
       " '__ne__',\n",
       " '__new__',\n",
       " '__reduce__',\n",
       " '__reduce_ex__',\n",
       " '__repr__',\n",
       " '__reversed__',\n",
       " '__rmul__',\n",
       " '__setattr__',\n",
       " '__setitem__',\n",
       " '__sizeof__',\n",
       " '__str__',\n",
       " '__subclasshook__',\n",
       " 'append',\n",
       " 'clear',\n",
       " 'copy',\n",
       " 'count',\n",
       " 'extend',\n",
       " 'index',\n",
       " 'insert',\n",
       " 'pop',\n",
       " 'remove',\n",
       " 'reverse',\n",
       " 'sort']"
      ]
     },
     "execution_count": 36,
     "metadata": {},
     "output_type": "execute_result"
    }
   ],
   "source": [
    "#***LIST MANIPULATION*** --> change-add-remove elements\n",
    "#change list elements with slicing \n",
    "mylist = [2,5,1,9,\"learning\",0,\"machine\"]\n",
    "mylist[1] = \"hello\"\n",
    "mylist\n",
    "\n",
    "#change multiple elements\n",
    "mylist[0:2] = [5,2]\n",
    "mylist\n",
    "\n",
    "#TRY IT! plus operator - paste together two lists\n",
    "mylist*3\n",
    "\n",
    "mylist+mylist\n",
    "\n",
    "mylist = [2,5,1,9,\"learning\",0,\"machine\"]\n",
    "\n",
    "del(mylist[2])\n",
    "mylist\n",
    "\n",
    "#TRY IT! shows up all the BUILT-IN METHODS \n",
    "dir(mylist) \n"
   ]
  },
  {
   "cell_type": "code",
   "execution_count": 37,
   "metadata": {},
   "outputs": [
    {
     "data": {
      "text/plain": [
       "[2, 4, 6, 8]"
      ]
     },
     "execution_count": 37,
     "metadata": {},
     "output_type": "execute_result"
    }
   ],
   "source": [
    "# ***DEFINE LIST BY COMPREHENSION***\n",
    "listofnumbers = [1,2,3,4]\n",
    "l2 = [2*x for x in listofnumbers]\n",
    "#[x*2 for x in listofnumbers if x%2==0]\n",
    "l2\n"
   ]
  },
  {
   "cell_type": "code",
   "execution_count": 38,
   "metadata": {},
   "outputs": [
    {
     "ename": "TypeError",
     "evalue": "'<' not supported between instances of 'str' and 'int'",
     "output_type": "error",
     "traceback": [
      "\u001b[0;31m---------------------------------------------------------------------------\u001b[0m",
      "\u001b[0;31mTypeError\u001b[0m                                 Traceback (most recent call last)",
      "\u001b[0;32m<ipython-input-38-bf4ea088f7c9>\u001b[0m in \u001b[0;36m<module>\u001b[0;34m\u001b[0m\n\u001b[1;32m      1\u001b[0m \u001b[0mmylist\u001b[0m \u001b[0;34m=\u001b[0m \u001b[0;34m[\u001b[0m\u001b[0;36m2\u001b[0m\u001b[0;34m,\u001b[0m\u001b[0;36m5\u001b[0m\u001b[0;34m,\u001b[0m\u001b[0;36m1\u001b[0m\u001b[0;34m,\u001b[0m\u001b[0;36m9\u001b[0m\u001b[0;34m,\u001b[0m\u001b[0;34m\"learning\"\u001b[0m\u001b[0;34m,\u001b[0m\u001b[0;36m0\u001b[0m\u001b[0;34m,\u001b[0m\u001b[0;34m\"machine\"\u001b[0m\u001b[0;34m]\u001b[0m\u001b[0;34m\u001b[0m\u001b[0;34m\u001b[0m\u001b[0m\n\u001b[1;32m      2\u001b[0m \u001b[0;34m\u001b[0m\u001b[0m\n\u001b[0;32m----> 3\u001b[0;31m \u001b[0mmylist\u001b[0m\u001b[0;34m.\u001b[0m\u001b[0msort\u001b[0m\u001b[0;34m(\u001b[0m\u001b[0;34m)\u001b[0m\u001b[0;34m\u001b[0m\u001b[0;34m\u001b[0m\u001b[0m\n\u001b[0m",
      "\u001b[0;31mTypeError\u001b[0m: '<' not supported between instances of 'str' and 'int'"
     ]
    }
   ],
   "source": [
    "mylist = [2,5,1,9,\"learning\",0,\"machine\"]\n",
    "\n",
    "mylist.sort()"
   ]
  },
  {
   "cell_type": "code",
   "execution_count": 39,
   "metadata": {},
   "outputs": [
    {
     "data": {
      "text/plain": [
       "[2, 4, 6, 8]"
      ]
     },
     "execution_count": 39,
     "metadata": {},
     "output_type": "execute_result"
    }
   ],
   "source": [
    "#sort a list\n",
    "l2.sort()\n",
    "l2"
   ]
  },
  {
   "cell_type": "code",
   "execution_count": 40,
   "metadata": {},
   "outputs": [],
   "source": [
    "# ***COPYING A LIST***\n",
    "# Create list areas\n",
    "areas = [11.25, 18.0, 20.0, 10.75, 9.50] \n",
    "# areas contains the reference to the list \n",
    "\n",
    "# Create areas_copy\n",
    "areas_copy = areas #is not a copy is an alias\n",
    "# you are copying the reference to the list but not the list itself\n",
    "\n",
    "# Change areas_copy\n",
    "areas_copy[0] = 5.0 #it changes the areas too!\n",
    "\n",
    "\n",
    "#check out areas now!\n",
    "#both areas_copy and areas points to the same list in memory"
   ]
  },
  {
   "cell_type": "code",
   "execution_count": null,
   "metadata": {},
   "outputs": [],
   "source": []
  },
  {
   "cell_type": "code",
   "execution_count": 41,
   "metadata": {},
   "outputs": [
    {
     "data": {
      "text/plain": [
       "[5.0, 18.0, 20.0, 10.75, 9.5]"
      ]
     },
     "execution_count": 41,
     "metadata": {},
     "output_type": "execute_result"
    }
   ],
   "source": [
    "areas"
   ]
  },
  {
   "cell_type": "code",
   "execution_count": 42,
   "metadata": {},
   "outputs": [
    {
     "name": "stdout",
     "output_type": "stream",
     "text": [
      "[5.0, 18.0, 20.0, 10.75, 9.5]\n"
     ]
    }
   ],
   "source": [
    "#Three ways to properly copying a list a and assign it to b\n",
    "# 1 # b = list(a) Copying using list() function #The list() function is used to create a list object from any iterable.\n",
    "# 2 # b = a[:] copy by slicing... creates a new object id(a) and id(b) returns the address of a python object in the memory.\n",
    "# 3 # only python 3... use \n",
    "b = list(areas) \n",
    "b=areas[:]\n",
    "b = areas.copy()\n",
    "\n",
    "# Print areas\n",
    "print(areas)"
   ]
  },
  {
   "cell_type": "markdown",
   "metadata": {},
   "source": [
    "### Loop on a List"
   ]
  },
  {
   "cell_type": "code",
   "execution_count": 43,
   "metadata": {},
   "outputs": [
    {
     "name": "stdout",
     "output_type": "stream",
     "text": [
      "5.0\n",
      "18.0\n",
      "20.0\n",
      "10.75\n",
      "9.5\n"
     ]
    }
   ],
   "source": [
    "for x in areas : \n",
    "    print(x)\n"
   ]
  },
  {
   "cell_type": "markdown",
   "metadata": {},
   "source": [
    "# Python Dictionaries"
   ]
  },
  {
   "cell_type": "code",
   "execution_count": 50,
   "metadata": {},
   "outputs": [
    {
     "data": {
      "text/plain": [
       "{'AI': 'Artificial Intelligence', 'ML': 'Machine Learning'}"
      ]
     },
     "execution_count": 50,
     "metadata": {},
     "output_type": "execute_result"
    }
   ],
   "source": [
    "#How to create a dictionary\n",
    "abbreviations = {}\n",
    "abbreviations[\"AI\"] = \"Artificial Intelligence\"\n",
    "abbreviations[\"ML\"] = \"Machine Learning\"\n",
    "abbreviations"
   ]
  },
  {
   "cell_type": "code",
   "execution_count": 51,
   "metadata": {},
   "outputs": [
    {
     "name": "stdout",
     "output_type": "stream",
     "text": [
      "{'AI': 'Artificial Intelligence', 'ML': 'Machine Learning'}\n"
     ]
    }
   ],
   "source": [
    "print(abbreviations)"
   ]
  },
  {
   "cell_type": "code",
   "execution_count": 52,
   "metadata": {},
   "outputs": [
    {
     "data": {
      "text/plain": [
       "dict_keys(['AI', 'ML'])"
      ]
     },
     "execution_count": 52,
     "metadata": {},
     "output_type": "execute_result"
    }
   ],
   "source": [
    "abbreviations.keys() #print out the keys"
   ]
  },
  {
   "cell_type": "code",
   "execution_count": 54,
   "metadata": {},
   "outputs": [
    {
     "data": {
      "text/plain": [
       "True"
      ]
     },
     "execution_count": 54,
     "metadata": {},
     "output_type": "execute_result"
    }
   ],
   "source": [
    "\"ML\" in abbreviations #check if a key is in my dictionary"
   ]
  },
  {
   "cell_type": "code",
   "execution_count": 47,
   "metadata": {},
   "outputs": [
    {
     "name": "stdout",
     "output_type": "stream",
     "text": [
      "AI stands for Artificial Intelligence \n",
      "\n",
      "ML stands for Machine Learning \n",
      "\n"
     ]
    }
   ],
   "source": [
    "#loop into a dictionary and print all the key-value pairs\n",
    "for a,b in abbreviations.items():\n",
    "    print(\"%s stands for %s \\n\" % (a,b)) \n"
   ]
  },
  {
   "cell_type": "code",
   "execution_count": 48,
   "metadata": {},
   "outputs": [],
   "source": [
    "#TRY IT!\n",
    "#del abbreviations[\"AI\"] \n",
    "\n",
    "abbreviations.clear()"
   ]
  },
  {
   "cell_type": "code",
   "execution_count": 49,
   "metadata": {},
   "outputs": [
    {
     "data": {
      "text/plain": [
       "{}"
      ]
     },
     "execution_count": 49,
     "metadata": {},
     "output_type": "execute_result"
    }
   ],
   "source": [
    "abbreviations"
   ]
  },
  {
   "cell_type": "markdown",
   "metadata": {},
   "source": [
    "## Tuples"
   ]
  },
  {
   "cell_type": "markdown",
   "metadata": {},
   "source": [
    "- Ordered collections of arbitrary objects\n",
    "- Immutable"
   ]
  },
  {
   "cell_type": "code",
   "execution_count": 64,
   "metadata": {},
   "outputs": [
    {
     "ename": "TypeError",
     "evalue": "'tuple' object does not support item assignment",
     "output_type": "error",
     "traceback": [
      "\u001b[0;31m---------------------------------------------------------------------------\u001b[0m",
      "\u001b[0;31mTypeError\u001b[0m                                 Traceback (most recent call last)",
      "\u001b[0;32m<ipython-input-64-714dfcc0088e>\u001b[0m in \u001b[0;36m<module>\u001b[0;34m\u001b[0m\n\u001b[1;32m      5\u001b[0m \u001b[0mT\u001b[0m\u001b[0;34m.\u001b[0m\u001b[0mindex\u001b[0m\u001b[0;34m(\u001b[0m\u001b[0;36m4\u001b[0m\u001b[0;34m)\u001b[0m\u001b[0;34m\u001b[0m\u001b[0;34m\u001b[0m\u001b[0m\n\u001b[1;32m      6\u001b[0m \u001b[0mT\u001b[0m\u001b[0;34m.\u001b[0m\u001b[0mcount\u001b[0m\u001b[0;34m(\u001b[0m\u001b[0;36m4\u001b[0m\u001b[0;34m)\u001b[0m\u001b[0;34m\u001b[0m\u001b[0;34m\u001b[0m\u001b[0m\n\u001b[0;32m----> 7\u001b[0;31m \u001b[0mT\u001b[0m\u001b[0;34m[\u001b[0m\u001b[0;36m0\u001b[0m\u001b[0;34m]\u001b[0m \u001b[0;34m=\u001b[0m \u001b[0;36m2\u001b[0m\u001b[0;34m\u001b[0m\u001b[0;34m\u001b[0m\u001b[0m\n\u001b[0m",
      "\u001b[0;31mTypeError\u001b[0m: 'tuple' object does not support item assignment"
     ]
    }
   ],
   "source": [
    "T = (1,2,3,4)\n",
    "\n",
    "T + (5,6)\n",
    "T[0]\n",
    "T.index(4)\n",
    "T.count(4)\n",
    "T[0] = 2"
   ]
  },
  {
   "cell_type": "markdown",
   "metadata": {},
   "source": [
    "## Sets"
   ]
  },
  {
   "cell_type": "markdown",
   "metadata": {},
   "source": [
    "Unordered collections of unique and immutable\n",
    "objects"
   ]
  },
  {
   "cell_type": "code",
   "execution_count": 67,
   "metadata": {},
   "outputs": [
    {
     "name": "stdout",
     "output_type": "stream",
     "text": [
      "{0, 1, 64, 4, 36, 9, 16, 49, 81, 25}\n"
     ]
    }
   ],
   "source": [
    "a_set = set(range(10))\n",
    "a_set\n",
    "b={x**2 for x in a_set}\n",
    "\n",
    "#\n",
    "print(b)\n",
    "#{x for x in a_set if x % 2 == 0}\n",
    "#{2**x for x in range(10)}\n",
    "#a_set"
   ]
  },
  {
   "cell_type": "markdown",
   "metadata": {},
   "source": [
    "## Dates and time"
   ]
  },
  {
   "cell_type": "code",
   "execution_count": 69,
   "metadata": {},
   "outputs": [],
   "source": [
    "from datetime import date, time, datetime"
   ]
  },
  {
   "cell_type": "code",
   "execution_count": 70,
   "metadata": {},
   "outputs": [
    {
     "name": "stdout",
     "output_type": "stream",
     "text": [
      "2022-02-15\n",
      "11:33:20\n",
      "2020-09-17 11:00:00\n"
     ]
    }
   ],
   "source": [
    "print(date(year=2022, month=2, day=15))# print(date(2020,9,17))\n",
    "print(time(hour=11, minute=33, second=20))\n",
    "print(datetime(year=2020, month=9, day=17, hour=11, minute=0, second=0))\n"
   ]
  },
  {
   "cell_type": "code",
   "execution_count": 71,
   "metadata": {},
   "outputs": [
    {
     "name": "stdout",
     "output_type": "stream",
     "text": [
      "2022-02-15\n"
     ]
    }
   ],
   "source": [
    "t=date.today()\n",
    "print(t)"
   ]
  },
  {
   "cell_type": "code",
   "execution_count": 72,
   "metadata": {},
   "outputs": [
    {
     "name": "stdout",
     "output_type": "stream",
     "text": [
      "Day : 15\n",
      "Month : 2\n",
      "Year : 2022\n"
     ]
    }
   ],
   "source": [
    "print('Day :',t.day)\n",
    "# month\n",
    "print('Month :',t.month)\n",
    "# year\n",
    "print('Year :',t.year)"
   ]
  },
  {
   "cell_type": "code",
   "execution_count": 74,
   "metadata": {},
   "outputs": [
    {
     "name": "stdout",
     "output_type": "stream",
     "text": [
      "2022-02-15 14:06:17.629066\n"
     ]
    }
   ],
   "source": [
    "now=datetime.now()\n",
    "print(now)\n"
   ]
  },
  {
   "cell_type": "code",
   "execution_count": 75,
   "metadata": {},
   "outputs": [
    {
     "name": "stdout",
     "output_type": "stream",
     "text": [
      "1\n",
      "2\n"
     ]
    }
   ],
   "source": [
    "print(now.weekday()) # from monday\n",
    "print(now.isoweekday()) # from sunday"
   ]
  },
  {
   "cell_type": "code",
   "execution_count": 78,
   "metadata": {
    "scrolled": true
   },
   "outputs": [
    {
     "name": "stdout",
     "output_type": "stream",
     "text": [
      "319 days, 9:51:59\n"
     ]
    }
   ],
   "source": [
    "date1 = datetime(2022,2,15,14,8,0)\n",
    "date2 = datetime(2022,12,31,23,59,59)\n",
    "difference = date2-date1\n",
    "print(difference)\n"
   ]
  },
  {
   "cell_type": "code",
   "execution_count": 80,
   "metadata": {},
   "outputs": [
    {
     "name": "stdout",
     "output_type": "stream",
     "text": [
      "seconds : 7665.866388888889\n"
     ]
    }
   ],
   "source": [
    "from datetime import timedelta\n",
    "# duration in seconds\n",
    "print('seconds :',difference/timedelta(hours=1))#days, hours,seconds"
   ]
  },
  {
   "cell_type": "markdown",
   "metadata": {},
   "source": [
    "## (simple) Python Function"
   ]
  },
  {
   "cell_type": "code",
   "execution_count": null,
   "metadata": {},
   "outputs": [],
   "source": [
    "#how to define a simple python function\n",
    "def my_function():\n",
    "    print(\"Hello from a function\") "
   ]
  },
  {
   "cell_type": "code",
   "execution_count": null,
   "metadata": {},
   "outputs": [],
   "source": [
    "my_function()"
   ]
  },
  {
   "cell_type": "code",
   "execution_count": null,
   "metadata": {},
   "outputs": [],
   "source": [
    "#how to define a simple python function\n",
    "def square(n):\n",
    "    return n**2\n",
    "\n",
    "square(6)"
   ]
  },
  {
   "cell_type": "code",
   "execution_count": null,
   "metadata": {},
   "outputs": [],
   "source": [
    "#Write a function returning the min and the max values in the list\n",
    "def minmax(data):\n",
    "    \n",
    "    min_value = data[0] #assuming not empty \n",
    "    max_value = data[0] #assuming not empty\n",
    "    \n",
    "    for i in data:\n",
    "        if i < min_value:\n",
    "            min_value=i\n",
    "        elif i > max_value:\n",
    "            max_value=i\n",
    "            \n",
    "    return min_value,max_value\n",
    "\n",
    "data = [2,3,1,6]\n",
    "minmax(data)"
   ]
  },
  {
   "cell_type": "markdown",
   "metadata": {},
   "source": [
    "## Control Flow constructs in Python"
   ]
  },
  {
   "cell_type": "code",
   "execution_count": null,
   "metadata": {},
   "outputs": [],
   "source": [
    "#IF  It is used to decide whether a certain statement or block of statements will be executed or not \n",
    "#That means that: if a certain condition is true then a block of statement is executed otherwise not.\n",
    "\n",
    "#How to use the IF statement into a function\n",
    "def is_multiple(n,m):\n",
    "    if m!=0 and n%m==0: #the remainder after division \n",
    "        return True\n",
    "    else:\n",
    "        return False\n",
    "    \n",
    "is_multiple(8,2) "
   ]
  },
  {
   "cell_type": "code",
   "execution_count": null,
   "metadata": {},
   "outputs": [],
   "source": [
    "#This is the same function but written in a more Pythonic way :)\n",
    "def is_multiple(n,m):\n",
    "    return m!=0 and n%m==0\n",
    "    \n",
    "is_multiple(5,2) "
   ]
  },
  {
   "cell_type": "code",
   "execution_count": null,
   "metadata": {},
   "outputs": [],
   "source": [
    "#FOR: A for loop is used for iterating over a sequence\n",
    "\n",
    "#example of the use of a for loop to calculate the sum of the squares of the first n numbers\n",
    "sum_squares = 0\n",
    "n = 5\n",
    "\n",
    "for i in range(n+1):  \n",
    "    sum_squares+=i**2 \n",
    "        \n",
    "print(sum_squares)\n",
    "\n",
    "#range(5)"
   ]
  },
  {
   "cell_type": "code",
   "execution_count": null,
   "metadata": {},
   "outputs": [],
   "source": [
    "#WHILE A while loop statement in Python repeatedly executes a target statement as long as a given condition is true.\n",
    "\n",
    "#example of a function using a while loop\n",
    "def is_even(k):\n",
    "    while k>0:\n",
    "        k=k-2\n",
    "        \n",
    "    return k==0\n",
    "    \n",
    "\n",
    "is_even(8)"
   ]
  },
  {
   "cell_type": "code",
   "execution_count": null,
   "metadata": {},
   "outputs": [],
   "source": [
    "# or just made it by recursion\n",
    "def fact(n):\n",
    "    if n==1 :\n",
    "        return 1\n",
    "    else :\n",
    "        return n*fact(n-1)\n",
    "    \n",
    "fact(10)"
   ]
  },
  {
   "cell_type": "code",
   "execution_count": null,
   "metadata": {},
   "outputs": [],
   "source": [
    "#How to import a Python module into your script\n",
    "\n",
    "#you can import the entire library\n",
    "import math\n",
    "math.factorial(5) #1*2*3*4*5\n",
    "\n",
    "#or import just the function you need\n",
    "from math import factorial\n",
    "factorial(5) #1*2*3*4*5\n",
    "    "
   ]
  },
  {
   "cell_type": "markdown",
   "metadata": {},
   "source": [
    "## Try by yourself!\n",
    "\n",
    "Write a function that \n",
    "- given two integer numbers (a,b) compute the greatest common divisor between them.\n",
    "- given a list of numbers compute the second largest number in the list."
   ]
  }
 ],
 "metadata": {
  "kernelspec": {
   "display_name": "Python 3 (ipykernel)",
   "language": "python",
   "name": "python3"
  },
  "language_info": {
   "codemirror_mode": {
    "name": "ipython",
    "version": 3
   },
   "file_extension": ".py",
   "mimetype": "text/x-python",
   "name": "python",
   "nbconvert_exporter": "python",
   "pygments_lexer": "ipython3",
   "version": "3.8.8"
  }
 },
 "nbformat": 4,
 "nbformat_minor": 4
}
